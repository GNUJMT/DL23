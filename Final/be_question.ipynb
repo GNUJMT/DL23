{
  "nbformat": 4,
  "nbformat_minor": 0,
  "metadata": {
    "colab": {
      "provenance": [],
      "authorship_tag": "ABX9TyPm7gEoHFacGUGuGHUUt3Oe",
      "include_colab_link": true
    },
    "kernelspec": {
      "name": "python3",
      "display_name": "Python 3"
    },
    "language_info": {
      "name": "python"
    }
  },
  "cells": [
    {
      "cell_type": "markdown",
      "metadata": {
        "id": "view-in-github",
        "colab_type": "text"
      },
      "source": [
        "<a href=\"https://colab.research.google.com/github/GNUJMT/DL23/blob/main/be_question.ipynb\" target=\"_parent\"><img src=\"https://colab.research.google.com/assets/colab-badge.svg\" alt=\"Open In Colab\"/></a>"
      ]
    },
    {
      "cell_type": "code",
      "execution_count": 43,
      "metadata": {
        "colab": {
          "base_uri": "https://localhost:8080/"
        },
        "id": "gtqOb4m3WMVx",
        "outputId": "1b889ca8-ca82-4d73-9a2e-b0ce50e92f9c"
      },
      "outputs": [
        {
          "output_type": "stream",
          "name": "stdout",
          "text": [
            "Is Harry happy?\n"
          ]
        }
      ],
      "source": [
        "w1= \"Jacob is happy.\"\n",
        "s=w1.split()\n",
        "sub =s[0]\n",
        "v = s[1]"
      ]
    },
    {
      "cell_type": "code",
      "source": [
        "c = s[2]\n",
        "c1 = c[0:-1]\n",
        "c1"
      ],
      "metadata": {
        "colab": {
          "base_uri": "https://localhost:8080/",
          "height": 36
        },
        "id": "kZGMR9ImYxxB",
        "outputId": "2a0be2c6-492c-4be1-bdb1-110bf9eae0a2"
      },
      "execution_count": 44,
      "outputs": [
        {
          "output_type": "execute_result",
          "data": {
            "text/plain": [
              "'happy'"
            ],
            "application/vnd.google.colaboratory.intrinsic+json": {
              "type": "string"
            }
          },
          "metadata": {},
          "execution_count": 44
        }
      ]
    },
    {
      "cell_type": "code",
      "source": [
        "sub2=sub.upper()[0]\n",
        "verb2=v.upper()[0]\n",
        "\n",
        "S = sub2+sub[1:]\n",
        "V= verb2+v[1:]\n",
        "\n",
        "Q= V+\" \"+S+\" \"+c1+\"?\"\n",
        "\n",
        "print(Q)\n"
      ],
      "metadata": {
        "colab": {
          "base_uri": "https://localhost:8080/"
        },
        "id": "yH6mLKZhZjw-",
        "outputId": "2ce71d74-3ece-4171-e369-7d06dcb2f8f8"
      },
      "execution_count": 46,
      "outputs": [
        {
          "output_type": "stream",
          "name": "stdout",
          "text": [
            "Is Jacob happy?\n"
          ]
        }
      ]
    }
  ]
}
