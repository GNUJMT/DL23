{
  "nbformat": 4,
  "nbformat_minor": 0,
  "metadata": {
    "colab": {
      "provenance": [],
      "authorship_tag": "ABX9TyPwoff2IAgDHPKeXSoFm06f",
      "include_colab_link": true
    },
    "kernelspec": {
      "name": "python3",
      "display_name": "Python 3"
    },
    "language_info": {
      "name": "python"
    }
  },
  "cells": [
    {
      "cell_type": "markdown",
      "metadata": {
        "id": "view-in-github",
        "colab_type": "text"
      },
      "source": [
        "<a href=\"https://colab.research.google.com/github/GNUJMT/DL23/blob/main/DLW07B_LJM.ipynb\" target=\"_parent\"><img src=\"https://colab.research.google.com/assets/colab-badge.svg\" alt=\"Open In Colab\"/></a>"
      ]
    },
    {
      "cell_type": "markdown",
      "source": [
        "EXERCISE 1"
      ],
      "metadata": {
        "id": "Nsu3zjfKX19a"
      }
    },
    {
      "cell_type": "code",
      "execution_count": 5,
      "metadata": {
        "id": "moDF6yMcRwgr"
      },
      "outputs": [],
      "source": [
        "greeting=\"Hello, students!\"\n",
        "year=2023"
      ]
    },
    {
      "cell_type": "code",
      "source": [
        "print(greeting)"
      ],
      "metadata": {
        "colab": {
          "base_uri": "https://localhost:8080/"
        },
        "id": "R_xgcR4-Sdiq",
        "outputId": "54a1a5ba-9fbf-403f-cbb0-fc11a30dcfc7"
      },
      "execution_count": 3,
      "outputs": [
        {
          "output_type": "stream",
          "name": "stdout",
          "text": [
            "Hello, students!\n"
          ]
        }
      ]
    },
    {
      "cell_type": "code",
      "source": [
        "print(year)"
      ],
      "metadata": {
        "colab": {
          "base_uri": "https://localhost:8080/"
        },
        "id": "oNPrwoU7SjXT",
        "outputId": "7059b5b0-81d7-42ef-ca29-ba6e5bb3fcb0"
      },
      "execution_count": 6,
      "outputs": [
        {
          "output_type": "stream",
          "name": "stdout",
          "text": [
            "2023\n"
          ]
        }
      ]
    },
    {
      "cell_type": "code",
      "source": [
        "message = greeting + \" \" + str(year)\n",
        "print(message)"
      ],
      "metadata": {
        "colab": {
          "base_uri": "https://localhost:8080/"
        },
        "id": "vQQFLVDrS3dF",
        "outputId": "1c76c521-e7c6-468d-e2b1-b946118c2c0a"
      },
      "execution_count": 12,
      "outputs": [
        {
          "output_type": "stream",
          "name": "stdout",
          "text": [
            "Hello, students! 2023\n"
          ]
        }
      ]
    },
    {
      "cell_type": "code",
      "source": [
        "num1 = 10\n",
        "num2 = 3\n"
      ],
      "metadata": {
        "id": "59EKGlhBVLNl"
      },
      "execution_count": 13,
      "outputs": []
    },
    {
      "cell_type": "code",
      "source": [
        "#Addition\n",
        "print(num1+num2)"
      ],
      "metadata": {
        "colab": {
          "base_uri": "https://localhost:8080/"
        },
        "id": "hEpIlwUbVdbN",
        "outputId": "74b91d0c-4f73-4ab6-976b-cde6b881773f"
      },
      "execution_count": 14,
      "outputs": [
        {
          "output_type": "stream",
          "name": "stdout",
          "text": [
            "13\n"
          ]
        }
      ]
    },
    {
      "cell_type": "code",
      "source": [
        "# Subtraction\n",
        "print(num1-num2)"
      ],
      "metadata": {
        "colab": {
          "base_uri": "https://localhost:8080/"
        },
        "id": "dJk77eERVj52",
        "outputId": "b84e6f09-f515-4d20-d2a9-5c43cc506b2d"
      },
      "execution_count": 15,
      "outputs": [
        {
          "output_type": "stream",
          "name": "stdout",
          "text": [
            "7\n"
          ]
        }
      ]
    },
    {
      "cell_type": "code",
      "source": [
        "# Multiplication\n",
        "print(num1*num2)"
      ],
      "metadata": {
        "colab": {
          "base_uri": "https://localhost:8080/"
        },
        "id": "uy7fW0WkVuvX",
        "outputId": "d8877fe6-de81-43c3-e87c-3540a30e44fa"
      },
      "execution_count": 16,
      "outputs": [
        {
          "output_type": "stream",
          "name": "stdout",
          "text": [
            "30\n"
          ]
        }
      ]
    },
    {
      "cell_type": "code",
      "source": [
        "#Division\n",
        "print(num1/num2)"
      ],
      "metadata": {
        "colab": {
          "base_uri": "https://localhost:8080/"
        },
        "id": "dt1ZHrnuVzxI",
        "outputId": "cc832c18-e11a-4791-f308-03ac9241e085"
      },
      "execution_count": 17,
      "outputs": [
        {
          "output_type": "stream",
          "name": "stdout",
          "text": [
            "3.3333333333333335\n"
          ]
        }
      ]
    },
    {
      "cell_type": "markdown",
      "source": [
        "EXERCISE 5"
      ],
      "metadata": {
        "id": "gMBC5LeaZTG2"
      }
    },
    {
      "cell_type": "code",
      "source": [
        "user_string = (\"교수님\")\n",
        "user_number = int(\"7\")\n",
        "\n",
        "result = user_string * user_number\n",
        "print(result)"
      ],
      "metadata": {
        "colab": {
          "base_uri": "https://localhost:8080/"
        },
        "id": "QJ-AKqsLWSxn",
        "outputId": "46f97acf-9887-44e1-8119-7132248b82a9"
      },
      "execution_count": 23,
      "outputs": [
        {
          "output_type": "stream",
          "name": "stdout",
          "text": [
            "교수님교수님교수님교수님교수님교수님교수님\n"
          ]
        }
      ]
    },
    {
      "cell_type": "markdown",
      "source": [
        "EXERCISE 6"
      ],
      "metadata": {
        "id": "ZXL5KvP0ZP2c"
      }
    },
    {
      "cell_type": "code",
      "source": [
        "sentence = \"Coding is fun and easy to learn!\"\n",
        "word_list = sentence.split()\n",
        "print(word_list)\n"
      ],
      "metadata": {
        "colab": {
          "base_uri": "https://localhost:8080/"
        },
        "id": "-M5YsrquXzOj",
        "outputId": "7f367a0a-26f7-49de-e67a-e3a7f158f47d"
      },
      "execution_count": 25,
      "outputs": [
        {
          "output_type": "stream",
          "name": "stdout",
          "text": [
            "['Coding', 'is', 'fun', 'and', 'easy', 'to', 'learn!']\n"
          ]
        }
      ]
    },
    {
      "cell_type": "markdown",
      "source": [
        "EXERCISE 7"
      ],
      "metadata": {
        "id": "kQ1dGfEQYkCQ"
      }
    },
    {
      "cell_type": "code",
      "source": [
        "text = \"Coding is Exciting!\"\n",
        "\n",
        "uppercase_text = text.upper()\n",
        "lowercase_text = text.lower()\n",
        "\n",
        "print(uppercase_text)\n",
        "print(lowercase_text)"
      ],
      "metadata": {
        "colab": {
          "base_uri": "https://localhost:8080/"
        },
        "id": "EQgHtckRYJ6E",
        "outputId": "d32f24f9-2872-4793-e5e8-c54d9804ded7"
      },
      "execution_count": 27,
      "outputs": [
        {
          "output_type": "stream",
          "name": "stdout",
          "text": [
            "CODING IS EXCITING!\n",
            "coding is exciting!\n"
          ]
        }
      ]
    },
    {
      "cell_type": "markdown",
      "source": [
        "EXERCISE 8\n",
        "\n"
      ],
      "metadata": {
        "id": "54P1Vm2qYr-S"
      }
    },
    {
      "cell_type": "code",
      "source": [
        "quote = \"To be or not to be, that is the question.\"\n",
        "\n",
        "# Print the first character of the string\n",
        "print(\"First character:\", quote[0])\n",
        "\n",
        "# Print the last character of the string\n",
        "print(\"Last character:\", quote[-1])\n",
        "\n",
        "# Print the first 5 characters of the string\n",
        "print(\"First 5 characters:\", quote[:5])\n",
        "\n",
        "# Print the characters from position 5 to the end of the string\n",
        "print(\"Characters from position 5 to the end:\", quote[5:])\n",
        "\n",
        "# Print the entire string in reverse order\n",
        "print(\"Reverse order:\", quote[::-1])\n"
      ],
      "metadata": {
        "colab": {
          "base_uri": "https://localhost:8080/"
        },
        "id": "PgtGaF7sYyLH",
        "outputId": "6d3c173a-1bad-415f-81d3-abd8480c580c"
      },
      "execution_count": 28,
      "outputs": [
        {
          "output_type": "stream",
          "name": "stdout",
          "text": [
            "First character: T\n",
            "Last character: .\n",
            "First 5 characters: To be\n",
            "Characters from position 5 to the end:  or not to be, that is the question.\n",
            "Reverse order: .noitseuq eht si taht ,eb ot ton ro eb oT\n"
          ]
        }
      ]
    }
  ]
}