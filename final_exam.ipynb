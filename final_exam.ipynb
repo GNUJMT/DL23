{
  "nbformat": 4,
  "nbformat_minor": 0,
  "metadata": {
    "colab": {
      "provenance": [],
      "authorship_tag": "ABX9TyNaZgg2LAqZBbm5zb5+SggK",
      "include_colab_link": true
    },
    "kernelspec": {
      "name": "python3",
      "display_name": "Python 3"
    },
    "language_info": {
      "name": "python"
    }
  },
  "cells": [
    {
      "cell_type": "markdown",
      "metadata": {
        "id": "view-in-github",
        "colab_type": "text"
      },
      "source": [
        "<a href=\"https://colab.research.google.com/github/GNUJMT/DL23/blob/main/final_exam.ipynb\" target=\"_parent\"><img src=\"https://colab.research.google.com/assets/colab-badge.svg\" alt=\"Open In Colab\"/></a>"
      ]
    },
    {
      "cell_type": "markdown",
      "source": [
        "스트링/Text를 nltk 깔아서 조작하기\n",
        "pip intstall nltk"
      ],
      "metadata": {
        "id": "AYAHoxP2S8Yk"
      }
    },
    {
      "cell_type": "code",
      "source": [
        "import nltk\n",
        "from wordcloud import WordCloud, STOPWORDS\n",
        "import os\n",
        "import matplotlib.pyplot as plt\n",
        "nltk.download(\"punkt\")"
      ],
      "metadata": {
        "colab": {
          "base_uri": "https://localhost:8080/"
        },
        "id": "DkEsKm19VVdY",
        "outputId": "c1c06581-ac4d-44fa-fba4-cf20149ac94f"
      },
      "execution_count": 29,
      "outputs": [
        {
          "output_type": "stream",
          "name": "stderr",
          "text": [
            "[nltk_data] Downloading package punkt to /root/nltk_data...\n",
            "[nltk_data]   Unzipping tokenizers/punkt.zip.\n"
          ]
        },
        {
          "output_type": "execute_result",
          "data": {
            "text/plain": [
              "True"
            ]
          },
          "metadata": {},
          "execution_count": 29
        }
      ]
    },
    {
      "cell_type": "code",
      "source": [
        "example_string = \"My name is Sarah. I live in a big city. I like to read books and play with my cat.\""
      ],
      "metadata": {
        "id": "dAAHaIvFYmu_"
      },
      "execution_count": 41,
      "outputs": []
    },
    {
      "cell_type": "code",
      "source": [
        "set1 = example_string.split()\n",
        "print(set1)"
      ],
      "metadata": {
        "colab": {
          "base_uri": "https://localhost:8080/"
        },
        "id": "paDn6ta1YtuO",
        "outputId": "17ebbe83-0b6d-463e-decb-213207e7377b"
      },
      "execution_count": 20,
      "outputs": [
        {
          "output_type": "stream",
          "name": "stdout",
          "text": [
            "['My', \"name's\", 'Sarah.', 'I', 'live', 'in', 'a', 'big', 'city.', 'I', 'like', 'to', 'read', 'books', 'and', 'play', 'with', 'my', 'cat.']\n"
          ]
        }
      ]
    },
    {
      "cell_type": "code",
      "source": [
        "set2 = example_string.split(\".\") #다음 문장은 스페이스 포함, 아무것도 없는것도 string이라서 empty string이 마지막에 요소로 포함됨\n",
        "set2"
      ],
      "metadata": {
        "colab": {
          "base_uri": "https://localhost:8080/"
        },
        "id": "kehBOlL2YvsC",
        "outputId": "a7007a9e-cb37-4c0c-d7bd-eadb770db9fc"
      },
      "execution_count": 6,
      "outputs": [
        {
          "output_type": "execute_result",
          "data": {
            "text/plain": [
              "[\"My name's Sarah\",\n",
              " ' I live in a big city',\n",
              " ' I like to read books and play with my cat',\n",
              " '']"
            ]
          },
          "metadata": {},
          "execution_count": 6
        }
      ]
    },
    {
      "cell_type": "code",
      "source": [
        "# Strip() #불필요한 스페이스 제거해서 뽑기, 여기서 s는 임의값\n",
        "\n",
        "set3 = [s.strip() for s in set2]\n",
        "set3"
      ],
      "metadata": {
        "colab": {
          "base_uri": "https://localhost:8080/"
        },
        "id": "_59H9G_8Y75S",
        "outputId": "404de56e-d5a5-41a2-b939-6058b23f3fec"
      },
      "execution_count": 8,
      "outputs": [
        {
          "output_type": "execute_result",
          "data": {
            "text/plain": [
              "[\"My name's Sarah\",\n",
              " 'I live in a big city',\n",
              " 'I like to read books and play with my cat',\n",
              " '']"
            ]
          },
          "metadata": {},
          "execution_count": 8
        }
      ]
    },
    {
      "cell_type": "code",
      "source": [
        "# Remove empty string in a list, empty string의 length는 0이니까 length가 1 이상인 값만 인출하게 만들기\n",
        "# if x != ~가 아니면 (!= not)\n",
        "\n",
        "set4 = [x for x in set3 if x != \"\"]\n",
        "set4"
      ],
      "metadata": {
        "colab": {
          "base_uri": "https://localhost:8080/"
        },
        "id": "5EhH-rR4Yx24",
        "outputId": "a6630b9f-c042-4424-e996-c60bedc054d6"
      },
      "execution_count": 9,
      "outputs": [
        {
          "output_type": "execute_result",
          "data": {
            "text/plain": [
              "[\"My name's Sarah\",\n",
              " 'I live in a big city',\n",
              " 'I like to read books and play with my cat']"
            ]
          },
          "metadata": {},
          "execution_count": 9
        }
      ]
    },
    {
      "cell_type": "code",
      "execution_count": 26,
      "metadata": {
        "id": "qd--3n6hQyKv"
      },
      "outputs": [],
      "source": [
        "from nltk.tokenize import sent_tokenize, word_tokenize #위의 과정을 통합하기"
      ]
    },
    {
      "cell_type": "code",
      "source": [
        "slist = sent_tokenize(example_string) #split으로 나누면 empty스트링이 나오는데 tokenize함수는 empty string까지 제거하므로 세번째를 인출하면 오류가 뜸\n",
        "slist"
      ],
      "metadata": {
        "colab": {
          "base_uri": "https://localhost:8080/"
        },
        "id": "qGmAxrOYfI2F",
        "outputId": "c4db2157-3ee4-4f3e-d4d6-571bee91970d"
      },
      "execution_count": 30,
      "outputs": [
        {
          "output_type": "execute_result",
          "data": {
            "text/plain": [
              "[\"My name's Sarah.\",\n",
              " 'I live in a big city.',\n",
              " 'I like to read books and play with my cat.']"
            ]
          },
          "metadata": {},
          "execution_count": 30
        }
      ]
    },
    {
      "cell_type": "code",
      "source": [
        "slist = sent_tokenize(example_string) #split으로 나누면 empty스트링이 나오는데 tokenize함수는 empty string까지 제거하므로 세번째를 인출하면 오류가 뜸\n",
        "slist[3]"
      ],
      "metadata": {
        "colab": {
          "base_uri": "https://localhost:8080/",
          "height": 190
        },
        "id": "Nf9rYb5sgnMB",
        "outputId": "126a1d53-bf81-41b6-e1ae-f6eaac95e4b8"
      },
      "execution_count": 36,
      "outputs": [
        {
          "output_type": "error",
          "ename": "IndexError",
          "evalue": "ignored",
          "traceback": [
            "\u001b[0;31m---------------------------------------------------------------------------\u001b[0m",
            "\u001b[0;31mIndexError\u001b[0m                                Traceback (most recent call last)",
            "\u001b[0;32m<ipython-input-36-6912a405ae7d>\u001b[0m in \u001b[0;36m<cell line: 2>\u001b[0;34m()\u001b[0m\n\u001b[1;32m      1\u001b[0m \u001b[0mslist\u001b[0m \u001b[0;34m=\u001b[0m \u001b[0msent_tokenize\u001b[0m\u001b[0;34m(\u001b[0m\u001b[0mexample_string\u001b[0m\u001b[0;34m)\u001b[0m \u001b[0;31m#split으로 나누면 empty스트링이 나오는데 tokenize함수는 empty string까지 제거하므로 세번째를 인출하면 오류가 뜸\u001b[0m\u001b[0;34m\u001b[0m\u001b[0;34m\u001b[0m\u001b[0m\n\u001b[0;32m----> 2\u001b[0;31m \u001b[0mslist\u001b[0m\u001b[0;34m[\u001b[0m\u001b[0;36m3\u001b[0m\u001b[0;34m]\u001b[0m\u001b[0;34m\u001b[0m\u001b[0;34m\u001b[0m\u001b[0m\n\u001b[0m",
            "\u001b[0;31mIndexError\u001b[0m: list index out of range"
          ]
        }
      ]
    },
    {
      "cell_type": "code",
      "source": [
        "mytext = \"I love you. I like you.\"\n",
        "mywords = word_tokenize(mytext) #텍스트를 단어별로 인출\n",
        "print(len(mywords))\n",
        "mywords"
      ],
      "metadata": {
        "colab": {
          "base_uri": "https://localhost:8080/"
        },
        "id": "K5iMkfJsgv3O",
        "outputId": "b8cd470d-2442-43ef-98d3-af2e13d45826"
      },
      "execution_count": 42,
      "outputs": [
        {
          "output_type": "stream",
          "name": "stdout",
          "text": [
            "8\n"
          ]
        },
        {
          "output_type": "execute_result",
          "data": {
            "text/plain": [
              "['I', 'love', 'you', '.', 'I', 'like', 'you', '.']"
            ]
          },
          "metadata": {},
          "execution_count": 42
        }
      ]
    },
    {
      "cell_type": "markdown",
      "source": [
        "Wordcloud"
      ],
      "metadata": {
        "id": "N_kSqJsRYZuM"
      }
    },
    {
      "cell_type": "code",
      "source": [
        "#Import libraries\n",
        "import matplotlib.pyplot as plt\n",
        "from wordcloud import WordCloud\n",
        "\n",
        "# Getting text from the user\n",
        "user_text = input(\"Please paste your text here: \")\n",
        "\n",
        "\n",
        "wordcloud = WordCloud(\n",
        "    background_color='white',\n",
        "    width=800,\n",
        "    height=800,\n",
        "    max_words=100\n",
        ").generate(user_text)\n",
        "\n",
        "plt.figure(figsize=(8, 8))\n",
        "plt.imshow(wordcloud, interpolation='bilinear')\n",
        "plt.axis('off')\n",
        "plt.show()"
      ],
      "metadata": {
        "colab": {
          "base_uri": "https://localhost:8080/",
          "height": 396
        },
        "id": "_3te8nxTYclK",
        "outputId": "2f00fd3a-7a7f-47a6-b2a0-fb97345f280e"
      },
      "execution_count": 43,
      "outputs": [
        {
          "output_type": "error",
          "ename": "KeyboardInterrupt",
          "evalue": "ignored",
          "traceback": [
            "\u001b[0;31m---------------------------------------------------------------------------\u001b[0m",
            "\u001b[0;31mKeyboardInterrupt\u001b[0m                         Traceback (most recent call last)",
            "\u001b[0;32m<ipython-input-43-6bca01e69b39>\u001b[0m in \u001b[0;36m<cell line: 6>\u001b[0;34m()\u001b[0m\n\u001b[1;32m      4\u001b[0m \u001b[0;34m\u001b[0m\u001b[0m\n\u001b[1;32m      5\u001b[0m \u001b[0;31m# Getting text from the user\u001b[0m\u001b[0;34m\u001b[0m\u001b[0;34m\u001b[0m\u001b[0m\n\u001b[0;32m----> 6\u001b[0;31m \u001b[0muser_text\u001b[0m \u001b[0;34m=\u001b[0m \u001b[0minput\u001b[0m\u001b[0;34m(\u001b[0m\u001b[0;34m\"Please paste your text here: \"\u001b[0m\u001b[0;34m)\u001b[0m\u001b[0;34m\u001b[0m\u001b[0;34m\u001b[0m\u001b[0m\n\u001b[0m\u001b[1;32m      7\u001b[0m \u001b[0;34m\u001b[0m\u001b[0m\n\u001b[1;32m      8\u001b[0m \u001b[0;34m\u001b[0m\u001b[0m\n",
            "\u001b[0;32m/usr/local/lib/python3.10/dist-packages/ipykernel/kernelbase.py\u001b[0m in \u001b[0;36mraw_input\u001b[0;34m(self, prompt)\u001b[0m\n\u001b[1;32m    849\u001b[0m                 \u001b[0;34m\"raw_input was called, but this frontend does not support input requests.\"\u001b[0m\u001b[0;34m\u001b[0m\u001b[0;34m\u001b[0m\u001b[0m\n\u001b[1;32m    850\u001b[0m             )\n\u001b[0;32m--> 851\u001b[0;31m         return self._input_request(str(prompt),\n\u001b[0m\u001b[1;32m    852\u001b[0m             \u001b[0mself\u001b[0m\u001b[0;34m.\u001b[0m\u001b[0m_parent_ident\u001b[0m\u001b[0;34m,\u001b[0m\u001b[0;34m\u001b[0m\u001b[0;34m\u001b[0m\u001b[0m\n\u001b[1;32m    853\u001b[0m             \u001b[0mself\u001b[0m\u001b[0;34m.\u001b[0m\u001b[0m_parent_header\u001b[0m\u001b[0;34m,\u001b[0m\u001b[0;34m\u001b[0m\u001b[0;34m\u001b[0m\u001b[0m\n",
            "\u001b[0;32m/usr/local/lib/python3.10/dist-packages/ipykernel/kernelbase.py\u001b[0m in \u001b[0;36m_input_request\u001b[0;34m(self, prompt, ident, parent, password)\u001b[0m\n\u001b[1;32m    893\u001b[0m             \u001b[0;32mexcept\u001b[0m \u001b[0mKeyboardInterrupt\u001b[0m\u001b[0;34m:\u001b[0m\u001b[0;34m\u001b[0m\u001b[0;34m\u001b[0m\u001b[0m\n\u001b[1;32m    894\u001b[0m                 \u001b[0;31m# re-raise KeyboardInterrupt, to truncate traceback\u001b[0m\u001b[0;34m\u001b[0m\u001b[0;34m\u001b[0m\u001b[0m\n\u001b[0;32m--> 895\u001b[0;31m                 \u001b[0;32mraise\u001b[0m \u001b[0mKeyboardInterrupt\u001b[0m\u001b[0;34m(\u001b[0m\u001b[0;34m\"Interrupted by user\"\u001b[0m\u001b[0;34m)\u001b[0m \u001b[0;32mfrom\u001b[0m \u001b[0;32mNone\u001b[0m\u001b[0;34m\u001b[0m\u001b[0;34m\u001b[0m\u001b[0m\n\u001b[0m\u001b[1;32m    896\u001b[0m             \u001b[0;32mexcept\u001b[0m \u001b[0mException\u001b[0m \u001b[0;32mas\u001b[0m \u001b[0me\u001b[0m\u001b[0;34m:\u001b[0m\u001b[0;34m\u001b[0m\u001b[0;34m\u001b[0m\u001b[0m\n\u001b[1;32m    897\u001b[0m                 \u001b[0mself\u001b[0m\u001b[0;34m.\u001b[0m\u001b[0mlog\u001b[0m\u001b[0;34m.\u001b[0m\u001b[0mwarning\u001b[0m\u001b[0;34m(\u001b[0m\u001b[0;34m\"Invalid Message:\"\u001b[0m\u001b[0;34m,\u001b[0m \u001b[0mexc_info\u001b[0m\u001b[0;34m=\u001b[0m\u001b[0;32mTrue\u001b[0m\u001b[0;34m)\u001b[0m\u001b[0;34m\u001b[0m\u001b[0;34m\u001b[0m\u001b[0m\n",
            "\u001b[0;31mKeyboardInterrupt\u001b[0m: Interrupted by user"
          ]
        }
      ]
    },
    {
      "cell_type": "markdown",
      "source": [
        "Removing stop words and punctuation"
      ],
      "metadata": {
        "id": "Bs9rY2gN5BS3"
      }
    },
    {
      "cell_type": "code",
      "source": [
        "# 첫번째 방법\n",
        "words = word_tokenize(example_string)\n",
        "\n",
        "# Without punctuation:\n",
        "wordlist = []\n",
        "\n",
        "for w in words:\n",
        "  if len(w)>1:\n",
        "    wordlist.append(w)\n",
        "\n",
        "\n",
        "print('Total words including punctuation: ', len(words))\n",
        "print('Total words: ', len(wordlist))\n",
        "print(\"=\"*55)\n",
        "print('words with punctuation:',words)\n",
        "print('words without punctuation:',wordlist)"
      ],
      "metadata": {
        "colab": {
          "base_uri": "https://localhost:8080/"
        },
        "id": "zzHuHAr05JWf",
        "outputId": "5b5c3234-a90f-4b03-94cd-88c671860b4d"
      },
      "execution_count": 51,
      "outputs": [
        {
          "output_type": "stream",
          "name": "stdout",
          "text": [
            "Total words including punctuation:  23\n",
            "Total words:  17\n",
            "=======================================================\n",
            "words with punctuation: ['My', 'name', 'is', 'Sarah', '.', 'I', 'live', 'in', 'a', 'big', 'city', '.', 'I', 'like', 'to', 'read', 'books', 'and', 'play', 'with', 'my', 'cat', '.']\n",
            "words without punctuation: ['My', 'name', 'is', 'Sarah', 'live', 'in', 'big', 'city', 'like', 'to', 'read', 'books', 'and', 'play', 'with', 'my', 'cat']\n"
          ]
        }
      ]
    },
    {
      "cell_type": "code",
      "source": [
        "# 첫번째 방법 -2\n",
        "from nltk.corpus import stopwords\n",
        "nltk.download('stopwords')\n",
        "print(\"Word size before stopwords: \", len(words))\n",
        "print(words)\n",
        "\n",
        "print(\"=\"*50)\n",
        "words2 = [w for w in wordlist if w not in stopwords.words('english')]\n",
        "print(words2)\n",
        "print(\"Word size after removing stopwords: \", len(words2))"
      ],
      "metadata": {
        "colab": {
          "base_uri": "https://localhost:8080/"
        },
        "id": "_WEoYsaj7msl",
        "outputId": "bee070e4-d670-494f-a406-ce29711189f7"
      },
      "execution_count": 52,
      "outputs": [
        {
          "output_type": "stream",
          "name": "stdout",
          "text": [
            "Word size before stopwords:  23\n",
            "['My', 'name', 'is', 'Sarah', '.', 'I', 'live', 'in', 'a', 'big', 'city', '.', 'I', 'like', 'to', 'read', 'books', 'and', 'play', 'with', 'my', 'cat', '.']\n",
            "==================================================\n",
            "['My', 'name', 'Sarah', 'live', 'big', 'city', 'like', 'read', 'books', 'play', 'cat']\n",
            "Word size after removing stopwords:  11\n"
          ]
        },
        {
          "output_type": "stream",
          "name": "stderr",
          "text": [
            "[nltk_data] Downloading package stopwords to /root/nltk_data...\n",
            "[nltk_data]   Package stopwords is already up-to-date!\n"
          ]
        }
      ]
    },
    {
      "cell_type": "markdown",
      "source": [
        "--------------------------------------------------------------------------------"
      ],
      "metadata": {
        "id": "g_hF5sReC-NB"
      }
    },
    {
      "cell_type": "code",
      "source": [
        "#두번째 방법 -1\n",
        "from nltk.tokenize import word_tokenize\n",
        "import string\n",
        "\n",
        "text = \"\"\"\n",
        "The ability of some species to create light, known as bioluminescence, is both magical and commonplace. Magical, because of its glimmering beauty. Commonplace, because many life forms can do it. On land the most familiar examples are fireflies, flashing to attract mates on a warm summer night. But there are other luminous land organisms, including glow-worms, millipedes, and some ninety species of fungus. Even some birds, such as the Atlantic puffin, have beaks that glow in the dark.\n",
        "But the real biological light show takes place in the sea. Here, an astonishing number of beings can make light. Some, such as ostracods, are like ocean fireflies, using flashes of light to attract mate. There are also glowing bacteria, and light-making fish, squid, and jellyfish. Indeed, of all the groups of organisms known to make light, more than four-fifths live in the ocean.\n",
        "As a place to live, the ocean has a couple of peculiarities. Firstly, there is almost nowhere to hide, so being invisible is very important. Secondly, as you descend, sunlight disappears. At first, red light is absorbed. Then the yellow and green parts of the spectrum disappear, leaving just the blue. At two-hundred meters below the surface, the ocean becomes a kind of perpetual twilight, and at six-hundred meters the blue fades out too. In fact, most of the ocean is as black as the night sky. These factors make light uniquely useful as a weapon or a veil.\n",
        "Hiding with light\n",
        "In the ocean’s upper layers, where light penetrates, creatures need to blend in to survive. Any life form that stands out is in danger of being spotted by predators, especially those swimming below, looking up. Many life forms solve this problem by avoiding the light zone during the day. Others, such as jellyfish and swimming snails, are transparent, ghostlike creatures, almost impossible to see.\n",
        "Other sea species use light to survive in the upper layers, but how? Some, such as certain shrimp and squid, illuminate their bellies to match the light coming from above. This allows them to become invisible to predators below. Their light can be turned on and off at will, some even have a dimmer switch. For example, certain types of shrimp can alter how much light they give off, depending on the brightness of the water around them. If a cloud passes overhead and briefly blocks the light, the shrimp will dim itself accordingly.\n",
        "But if the aim is to remain invisible, why do some creatures light up when they are touched, or when the water nearby is disturbed? A couple of reasons. First, a sudden burst of light may startle a predator, giving the prey a chance to escape. Some kinds of deep-sea squid, for example, give a big squirt of light before darting off into the gloom.\n",
        "Second, there is the principle of ‘the enemy of my enemy is my friend.’ Giving off light can help summon the predator of your predator. Known as the burglar alarm effect, this is especially useful for tiny life forms, such as dinoflagellates, that cannot swim fast. For such small beings, water is too viscous to allow a quick getaway, it would be like trying to swim through syrup. Instead, when threatened by a shrimp, for example, these organisms light up. The flashes attract larger fish that are better able to spot, and eat, the shrimp. The chief defense for these tiny organisms is therefore not fight or flight, but light.\n",
        "\"\"\"\n",
        "\n",
        "wordlist = word_tokenize(text)\n",
        "wordlist = [word.lower() for word in wordlist if word not in string.punctuation]\n",
        "\n",
        "print(wordlist)\n",
        "print(len(wordlist))\n"
      ],
      "metadata": {
        "colab": {
          "base_uri": "https://localhost:8080/"
        },
        "id": "RfMyjU9v8y-u",
        "outputId": "758afdd4-6441-45c5-bab2-654d1d41db9a"
      },
      "execution_count": 53,
      "outputs": [
        {
          "output_type": "stream",
          "name": "stdout",
          "text": [
            "['the', 'ability', 'of', 'some', 'species', 'to', 'create', 'light', 'known', 'as', 'bioluminescence', 'is', 'both', 'magical', 'and', 'commonplace', 'magical', 'because', 'of', 'its', 'glimmering', 'beauty', 'commonplace', 'because', 'many', 'life', 'forms', 'can', 'do', 'it', 'on', 'land', 'the', 'most', 'familiar', 'examples', 'are', 'fireflies', 'flashing', 'to', 'attract', 'mates', 'on', 'a', 'warm', 'summer', 'night', 'but', 'there', 'are', 'other', 'luminous', 'land', 'organisms', 'including', 'glow-worms', 'millipedes', 'and', 'some', 'ninety', 'species', 'of', 'fungus', 'even', 'some', 'birds', 'such', 'as', 'the', 'atlantic', 'puffin', 'have', 'beaks', 'that', 'glow', 'in', 'the', 'dark', 'but', 'the', 'real', 'biological', 'light', 'show', 'takes', 'place', 'in', 'the', 'sea', 'here', 'an', 'astonishing', 'number', 'of', 'beings', 'can', 'make', 'light', 'some', 'such', 'as', 'ostracods', 'are', 'like', 'ocean', 'fireflies', 'using', 'flashes', 'of', 'light', 'to', 'attract', 'mate', 'there', 'are', 'also', 'glowing', 'bacteria', 'and', 'light-making', 'fish', 'squid', 'and', 'jellyfish', 'indeed', 'of', 'all', 'the', 'groups', 'of', 'organisms', 'known', 'to', 'make', 'light', 'more', 'than', 'four-fifths', 'live', 'in', 'the', 'ocean', 'as', 'a', 'place', 'to', 'live', 'the', 'ocean', 'has', 'a', 'couple', 'of', 'peculiarities', 'firstly', 'there', 'is', 'almost', 'nowhere', 'to', 'hide', 'so', 'being', 'invisible', 'is', 'very', 'important', 'secondly', 'as', 'you', 'descend', 'sunlight', 'disappears', 'at', 'first', 'red', 'light', 'is', 'absorbed', 'then', 'the', 'yellow', 'and', 'green', 'parts', 'of', 'the', 'spectrum', 'disappear', 'leaving', 'just', 'the', 'blue', 'at', 'two-hundred', 'meters', 'below', 'the', 'surface', 'the', 'ocean', 'becomes', 'a', 'kind', 'of', 'perpetual', 'twilight', 'and', 'at', 'six-hundred', 'meters', 'the', 'blue', 'fades', 'out', 'too', 'in', 'fact', 'most', 'of', 'the', 'ocean', 'is', 'as', 'black', 'as', 'the', 'night', 'sky', 'these', 'factors', 'make', 'light', 'uniquely', 'useful', 'as', 'a', 'weapon', 'or', 'a', 'veil', 'hiding', 'with', 'light', 'in', 'the', 'ocean', '’', 's', 'upper', 'layers', 'where', 'light', 'penetrates', 'creatures', 'need', 'to', 'blend', 'in', 'to', 'survive', 'any', 'life', 'form', 'that', 'stands', 'out', 'is', 'in', 'danger', 'of', 'being', 'spotted', 'by', 'predators', 'especially', 'those', 'swimming', 'below', 'looking', 'up', 'many', 'life', 'forms', 'solve', 'this', 'problem', 'by', 'avoiding', 'the', 'light', 'zone', 'during', 'the', 'day', 'others', 'such', 'as', 'jellyfish', 'and', 'swimming', 'snails', 'are', 'transparent', 'ghostlike', 'creatures', 'almost', 'impossible', 'to', 'see', 'other', 'sea', 'species', 'use', 'light', 'to', 'survive', 'in', 'the', 'upper', 'layers', 'but', 'how', 'some', 'such', 'as', 'certain', 'shrimp', 'and', 'squid', 'illuminate', 'their', 'bellies', 'to', 'match', 'the', 'light', 'coming', 'from', 'above', 'this', 'allows', 'them', 'to', 'become', 'invisible', 'to', 'predators', 'below', 'their', 'light', 'can', 'be', 'turned', 'on', 'and', 'off', 'at', 'will', 'some', 'even', 'have', 'a', 'dimmer', 'switch', 'for', 'example', 'certain', 'types', 'of', 'shrimp', 'can', 'alter', 'how', 'much', 'light', 'they', 'give', 'off', 'depending', 'on', 'the', 'brightness', 'of', 'the', 'water', 'around', 'them', 'if', 'a', 'cloud', 'passes', 'overhead', 'and', 'briefly', 'blocks', 'the', 'light', 'the', 'shrimp', 'will', 'dim', 'itself', 'accordingly', 'but', 'if', 'the', 'aim', 'is', 'to', 'remain', 'invisible', 'why', 'do', 'some', 'creatures', 'light', 'up', 'when', 'they', 'are', 'touched', 'or', 'when', 'the', 'water', 'nearby', 'is', 'disturbed', 'a', 'couple', 'of', 'reasons', 'first', 'a', 'sudden', 'burst', 'of', 'light', 'may', 'startle', 'a', 'predator', 'giving', 'the', 'prey', 'a', 'chance', 'to', 'escape', 'some', 'kinds', 'of', 'deep-sea', 'squid', 'for', 'example', 'give', 'a', 'big', 'squirt', 'of', 'light', 'before', 'darting', 'off', 'into', 'the', 'gloom', 'second', 'there', 'is', 'the', 'principle', 'of', '‘', 'the', 'enemy', 'of', 'my', 'enemy', 'is', 'my', 'friend.', '’', 'giving', 'off', 'light', 'can', 'help', 'summon', 'the', 'predator', 'of', 'your', 'predator', 'known', 'as', 'the', 'burglar', 'alarm', 'effect', 'this', 'is', 'especially', 'useful', 'for', 'tiny', 'life', 'forms', 'such', 'as', 'dinoflagellates', 'that', 'can', 'not', 'swim', 'fast', 'for', 'such', 'small', 'beings', 'water', 'is', 'too', 'viscous', 'to', 'allow', 'a', 'quick', 'getaway', 'it', 'would', 'be', 'like', 'trying', 'to', 'swim', 'through', 'syrup', 'instead', 'when', 'threatened', 'by', 'a', 'shrimp', 'for', 'example', 'these', 'organisms', 'light', 'up', 'the', 'flashes', 'attract', 'larger', 'fish', 'that', 'are', 'better', 'able', 'to', 'spot', 'and', 'eat', 'the', 'shrimp', 'the', 'chief', 'defense', 'for', 'these', 'tiny', 'organisms', 'is', 'therefore', 'not', 'fight', 'or', 'flight', 'but', 'light']\n",
            "582\n"
          ]
        }
      ]
    },
    {
      "cell_type": "code",
      "source": [
        "from nltk.corpus import stopwords\n",
        "nltk.download('stopwords')\n",
        "print(\"Word size before stopwords: \", len(words))\n",
        "print(wordlist)\n",
        "\n",
        "print(\"=\"*50)\n",
        "words2 = [w for w in wordlist if w not in stopwords.words('english')]\n",
        "print(words2)\n",
        "print(\"Word size after removing stopwords: \", len(words2))"
      ],
      "metadata": {
        "colab": {
          "base_uri": "https://localhost:8080/"
        },
        "id": "Ql0jweqUDBGT",
        "outputId": "23812ea7-76cf-49bd-e16f-5ebf46c50b97"
      },
      "execution_count": 60,
      "outputs": [
        {
          "output_type": "stream",
          "name": "stdout",
          "text": [
            "Word size before stopwords:  582\n",
            "['the', 'ability', 'of', 'some', 'species', 'to', 'create', 'light', 'known', 'as', 'bioluminescence', 'is', 'both', 'magical', 'and', 'commonplace', 'magical', 'because', 'of', 'its', 'glimmering', 'beauty', 'commonplace', 'because', 'many', 'life', 'forms', 'can', 'do', 'it', 'on', 'land', 'the', 'most', 'familiar', 'examples', 'are', 'fireflies', 'flashing', 'to', 'attract', 'mates', 'on', 'a', 'warm', 'summer', 'night', 'but', 'there', 'are', 'other', 'luminous', 'land', 'organisms', 'including', 'glow-worms', 'millipedes', 'and', 'some', 'ninety', 'species', 'of', 'fungus', 'even', 'some', 'birds', 'such', 'as', 'the', 'atlantic', 'puffin', 'have', 'beaks', 'that', 'glow', 'in', 'the', 'dark', 'but', 'the', 'real', 'biological', 'light', 'show', 'takes', 'place', 'in', 'the', 'sea', 'here', 'an', 'astonishing', 'number', 'of', 'beings', 'can', 'make', 'light', 'some', 'such', 'as', 'ostracods', 'are', 'like', 'ocean', 'fireflies', 'using', 'flashes', 'of', 'light', 'to', 'attract', 'mate', 'there', 'are', 'also', 'glowing', 'bacteria', 'and', 'light-making', 'fish', 'squid', 'and', 'jellyfish', 'indeed', 'of', 'all', 'the', 'groups', 'of', 'organisms', 'known', 'to', 'make', 'light', 'more', 'than', 'four-fifths', 'live', 'in', 'the', 'ocean', 'as', 'a', 'place', 'to', 'live', 'the', 'ocean', 'has', 'a', 'couple', 'of', 'peculiarities', 'firstly', 'there', 'is', 'almost', 'nowhere', 'to', 'hide', 'so', 'being', 'invisible', 'is', 'very', 'important', 'secondly', 'as', 'you', 'descend', 'sunlight', 'disappears', 'at', 'first', 'red', 'light', 'is', 'absorbed', 'then', 'the', 'yellow', 'and', 'green', 'parts', 'of', 'the', 'spectrum', 'disappear', 'leaving', 'just', 'the', 'blue', 'at', 'two-hundred', 'meters', 'below', 'the', 'surface', 'the', 'ocean', 'becomes', 'a', 'kind', 'of', 'perpetual', 'twilight', 'and', 'at', 'six-hundred', 'meters', 'the', 'blue', 'fades', 'out', 'too', 'in', 'fact', 'most', 'of', 'the', 'ocean', 'is', 'as', 'black', 'as', 'the', 'night', 'sky', 'these', 'factors', 'make', 'light', 'uniquely', 'useful', 'as', 'a', 'weapon', 'or', 'a', 'veil', 'hiding', 'with', 'light', 'in', 'the', 'ocean', '’', 's', 'upper', 'layers', 'where', 'light', 'penetrates', 'creatures', 'need', 'to', 'blend', 'in', 'to', 'survive', 'any', 'life', 'form', 'that', 'stands', 'out', 'is', 'in', 'danger', 'of', 'being', 'spotted', 'by', 'predators', 'especially', 'those', 'swimming', 'below', 'looking', 'up', 'many', 'life', 'forms', 'solve', 'this', 'problem', 'by', 'avoiding', 'the', 'light', 'zone', 'during', 'the', 'day', 'others', 'such', 'as', 'jellyfish', 'and', 'swimming', 'snails', 'are', 'transparent', 'ghostlike', 'creatures', 'almost', 'impossible', 'to', 'see', 'other', 'sea', 'species', 'use', 'light', 'to', 'survive', 'in', 'the', 'upper', 'layers', 'but', 'how', 'some', 'such', 'as', 'certain', 'shrimp', 'and', 'squid', 'illuminate', 'their', 'bellies', 'to', 'match', 'the', 'light', 'coming', 'from', 'above', 'this', 'allows', 'them', 'to', 'become', 'invisible', 'to', 'predators', 'below', 'their', 'light', 'can', 'be', 'turned', 'on', 'and', 'off', 'at', 'will', 'some', 'even', 'have', 'a', 'dimmer', 'switch', 'for', 'example', 'certain', 'types', 'of', 'shrimp', 'can', 'alter', 'how', 'much', 'light', 'they', 'give', 'off', 'depending', 'on', 'the', 'brightness', 'of', 'the', 'water', 'around', 'them', 'if', 'a', 'cloud', 'passes', 'overhead', 'and', 'briefly', 'blocks', 'the', 'light', 'the', 'shrimp', 'will', 'dim', 'itself', 'accordingly', 'but', 'if', 'the', 'aim', 'is', 'to', 'remain', 'invisible', 'why', 'do', 'some', 'creatures', 'light', 'up', 'when', 'they', 'are', 'touched', 'or', 'when', 'the', 'water', 'nearby', 'is', 'disturbed', 'a', 'couple', 'of', 'reasons', 'first', 'a', 'sudden', 'burst', 'of', 'light', 'may', 'startle', 'a', 'predator', 'giving', 'the', 'prey', 'a', 'chance', 'to', 'escape', 'some', 'kinds', 'of', 'deep-sea', 'squid', 'for', 'example', 'give', 'a', 'big', 'squirt', 'of', 'light', 'before', 'darting', 'off', 'into', 'the', 'gloom', 'second', 'there', 'is', 'the', 'principle', 'of', '‘', 'the', 'enemy', 'of', 'my', 'enemy', 'is', 'my', 'friend.', '’', 'giving', 'off', 'light', 'can', 'help', 'summon', 'the', 'predator', 'of', 'your', 'predator', 'known', 'as', 'the', 'burglar', 'alarm', 'effect', 'this', 'is', 'especially', 'useful', 'for', 'tiny', 'life', 'forms', 'such', 'as', 'dinoflagellates', 'that', 'can', 'not', 'swim', 'fast', 'for', 'such', 'small', 'beings', 'water', 'is', 'too', 'viscous', 'to', 'allow', 'a', 'quick', 'getaway', 'it', 'would', 'be', 'like', 'trying', 'to', 'swim', 'through', 'syrup', 'instead', 'when', 'threatened', 'by', 'a', 'shrimp', 'for', 'example', 'these', 'organisms', 'light', 'up', 'the', 'flashes', 'attract', 'larger', 'fish', 'that', 'are', 'better', 'able', 'to', 'spot', 'and', 'eat', 'the', 'shrimp', 'the', 'chief', 'defense', 'for', 'these', 'tiny', 'organisms', 'is', 'therefore', 'not', 'fight', 'or', 'flight', 'but', 'light']\n",
            "==================================================\n",
            "['ability', 'species', 'create', 'light', 'known', 'bioluminescence', 'magical', 'commonplace', 'magical', 'glimmering', 'beauty', 'commonplace', 'many', 'life', 'forms', 'land', 'familiar', 'examples', 'fireflies', 'flashing', 'attract', 'mates', 'warm', 'summer', 'night', 'luminous', 'land', 'organisms', 'including', 'glow-worms', 'millipedes', 'ninety', 'species', 'fungus', 'even', 'birds', 'atlantic', 'puffin', 'beaks', 'glow', 'dark', 'real', 'biological', 'light', 'show', 'takes', 'place', 'sea', 'astonishing', 'number', 'beings', 'make', 'light', 'ostracods', 'like', 'ocean', 'fireflies', 'using', 'flashes', 'light', 'attract', 'mate', 'also', 'glowing', 'bacteria', 'light-making', 'fish', 'squid', 'jellyfish', 'indeed', 'groups', 'organisms', 'known', 'make', 'light', 'four-fifths', 'live', 'ocean', 'place', 'live', 'ocean', 'couple', 'peculiarities', 'firstly', 'almost', 'nowhere', 'hide', 'invisible', 'important', 'secondly', 'descend', 'sunlight', 'disappears', 'first', 'red', 'light', 'absorbed', 'yellow', 'green', 'parts', 'spectrum', 'disappear', 'leaving', 'blue', 'two-hundred', 'meters', 'surface', 'ocean', 'becomes', 'kind', 'perpetual', 'twilight', 'six-hundred', 'meters', 'blue', 'fades', 'fact', 'ocean', 'black', 'night', 'sky', 'factors', 'make', 'light', 'uniquely', 'useful', 'weapon', 'veil', 'hiding', 'light', 'ocean', '’', 'upper', 'layers', 'light', 'penetrates', 'creatures', 'need', 'blend', 'survive', 'life', 'form', 'stands', 'danger', 'spotted', 'predators', 'especially', 'swimming', 'looking', 'many', 'life', 'forms', 'solve', 'problem', 'avoiding', 'light', 'zone', 'day', 'others', 'jellyfish', 'swimming', 'snails', 'transparent', 'ghostlike', 'creatures', 'almost', 'impossible', 'see', 'sea', 'species', 'use', 'light', 'survive', 'upper', 'layers', 'certain', 'shrimp', 'squid', 'illuminate', 'bellies', 'match', 'light', 'coming', 'allows', 'become', 'invisible', 'predators', 'light', 'turned', 'even', 'dimmer', 'switch', 'example', 'certain', 'types', 'shrimp', 'alter', 'much', 'light', 'give', 'depending', 'brightness', 'water', 'around', 'cloud', 'passes', 'overhead', 'briefly', 'blocks', 'light', 'shrimp', 'dim', 'accordingly', 'aim', 'remain', 'invisible', 'creatures', 'light', 'touched', 'water', 'nearby', 'disturbed', 'couple', 'reasons', 'first', 'sudden', 'burst', 'light', 'may', 'startle', 'predator', 'giving', 'prey', 'chance', 'escape', 'kinds', 'deep-sea', 'squid', 'example', 'give', 'big', 'squirt', 'light', 'darting', 'gloom', 'second', 'principle', '‘', 'enemy', 'enemy', 'friend.', '’', 'giving', 'light', 'help', 'summon', 'predator', 'predator', 'known', 'burglar', 'alarm', 'effect', 'especially', 'useful', 'tiny', 'life', 'forms', 'dinoflagellates', 'swim', 'fast', 'small', 'beings', 'water', 'viscous', 'allow', 'quick', 'getaway', 'would', 'like', 'trying', 'swim', 'syrup', 'instead', 'threatened', 'shrimp', 'example', 'organisms', 'light', 'flashes', 'attract', 'larger', 'fish', 'better', 'able', 'spot', 'eat', 'shrimp', 'chief', 'defense', 'tiny', 'organisms', 'therefore', 'fight', 'flight', 'light']\n",
            "Word size after removing stopwords:  305\n"
          ]
        },
        {
          "output_type": "stream",
          "name": "stderr",
          "text": [
            "[nltk_data] Downloading package stopwords to /root/nltk_data...\n",
            "[nltk_data]   Package stopwords is already up-to-date!\n"
          ]
        }
      ]
    },
    {
      "cell_type": "code",
      "source": [
        "# Lower case\n",
        "lowerword = []\n",
        "\n",
        "for w in wordlist:\n",
        "  w1 = w.lower()\n",
        "  lowerword.append(w1)\n",
        "print(lowerword)\n",
        "\n",
        "words = lowerword\n",
        "print(\"Word size before stopwords: \", len(words))"
      ],
      "metadata": {
        "colab": {
          "base_uri": "https://localhost:8080/"
        },
        "id": "Lc1AVgYVCQHq",
        "outputId": "89826ec9-663f-4a23-9fd7-734318088a48"
      },
      "execution_count": 54,
      "outputs": [
        {
          "output_type": "stream",
          "name": "stdout",
          "text": [
            "['the', 'ability', 'of', 'some', 'species', 'to', 'create', 'light', 'known', 'as', 'bioluminescence', 'is', 'both', 'magical', 'and', 'commonplace', 'magical', 'because', 'of', 'its', 'glimmering', 'beauty', 'commonplace', 'because', 'many', 'life', 'forms', 'can', 'do', 'it', 'on', 'land', 'the', 'most', 'familiar', 'examples', 'are', 'fireflies', 'flashing', 'to', 'attract', 'mates', 'on', 'a', 'warm', 'summer', 'night', 'but', 'there', 'are', 'other', 'luminous', 'land', 'organisms', 'including', 'glow-worms', 'millipedes', 'and', 'some', 'ninety', 'species', 'of', 'fungus', 'even', 'some', 'birds', 'such', 'as', 'the', 'atlantic', 'puffin', 'have', 'beaks', 'that', 'glow', 'in', 'the', 'dark', 'but', 'the', 'real', 'biological', 'light', 'show', 'takes', 'place', 'in', 'the', 'sea', 'here', 'an', 'astonishing', 'number', 'of', 'beings', 'can', 'make', 'light', 'some', 'such', 'as', 'ostracods', 'are', 'like', 'ocean', 'fireflies', 'using', 'flashes', 'of', 'light', 'to', 'attract', 'mate', 'there', 'are', 'also', 'glowing', 'bacteria', 'and', 'light-making', 'fish', 'squid', 'and', 'jellyfish', 'indeed', 'of', 'all', 'the', 'groups', 'of', 'organisms', 'known', 'to', 'make', 'light', 'more', 'than', 'four-fifths', 'live', 'in', 'the', 'ocean', 'as', 'a', 'place', 'to', 'live', 'the', 'ocean', 'has', 'a', 'couple', 'of', 'peculiarities', 'firstly', 'there', 'is', 'almost', 'nowhere', 'to', 'hide', 'so', 'being', 'invisible', 'is', 'very', 'important', 'secondly', 'as', 'you', 'descend', 'sunlight', 'disappears', 'at', 'first', 'red', 'light', 'is', 'absorbed', 'then', 'the', 'yellow', 'and', 'green', 'parts', 'of', 'the', 'spectrum', 'disappear', 'leaving', 'just', 'the', 'blue', 'at', 'two-hundred', 'meters', 'below', 'the', 'surface', 'the', 'ocean', 'becomes', 'a', 'kind', 'of', 'perpetual', 'twilight', 'and', 'at', 'six-hundred', 'meters', 'the', 'blue', 'fades', 'out', 'too', 'in', 'fact', 'most', 'of', 'the', 'ocean', 'is', 'as', 'black', 'as', 'the', 'night', 'sky', 'these', 'factors', 'make', 'light', 'uniquely', 'useful', 'as', 'a', 'weapon', 'or', 'a', 'veil', 'hiding', 'with', 'light', 'in', 'the', 'ocean', '’', 's', 'upper', 'layers', 'where', 'light', 'penetrates', 'creatures', 'need', 'to', 'blend', 'in', 'to', 'survive', 'any', 'life', 'form', 'that', 'stands', 'out', 'is', 'in', 'danger', 'of', 'being', 'spotted', 'by', 'predators', 'especially', 'those', 'swimming', 'below', 'looking', 'up', 'many', 'life', 'forms', 'solve', 'this', 'problem', 'by', 'avoiding', 'the', 'light', 'zone', 'during', 'the', 'day', 'others', 'such', 'as', 'jellyfish', 'and', 'swimming', 'snails', 'are', 'transparent', 'ghostlike', 'creatures', 'almost', 'impossible', 'to', 'see', 'other', 'sea', 'species', 'use', 'light', 'to', 'survive', 'in', 'the', 'upper', 'layers', 'but', 'how', 'some', 'such', 'as', 'certain', 'shrimp', 'and', 'squid', 'illuminate', 'their', 'bellies', 'to', 'match', 'the', 'light', 'coming', 'from', 'above', 'this', 'allows', 'them', 'to', 'become', 'invisible', 'to', 'predators', 'below', 'their', 'light', 'can', 'be', 'turned', 'on', 'and', 'off', 'at', 'will', 'some', 'even', 'have', 'a', 'dimmer', 'switch', 'for', 'example', 'certain', 'types', 'of', 'shrimp', 'can', 'alter', 'how', 'much', 'light', 'they', 'give', 'off', 'depending', 'on', 'the', 'brightness', 'of', 'the', 'water', 'around', 'them', 'if', 'a', 'cloud', 'passes', 'overhead', 'and', 'briefly', 'blocks', 'the', 'light', 'the', 'shrimp', 'will', 'dim', 'itself', 'accordingly', 'but', 'if', 'the', 'aim', 'is', 'to', 'remain', 'invisible', 'why', 'do', 'some', 'creatures', 'light', 'up', 'when', 'they', 'are', 'touched', 'or', 'when', 'the', 'water', 'nearby', 'is', 'disturbed', 'a', 'couple', 'of', 'reasons', 'first', 'a', 'sudden', 'burst', 'of', 'light', 'may', 'startle', 'a', 'predator', 'giving', 'the', 'prey', 'a', 'chance', 'to', 'escape', 'some', 'kinds', 'of', 'deep-sea', 'squid', 'for', 'example', 'give', 'a', 'big', 'squirt', 'of', 'light', 'before', 'darting', 'off', 'into', 'the', 'gloom', 'second', 'there', 'is', 'the', 'principle', 'of', '‘', 'the', 'enemy', 'of', 'my', 'enemy', 'is', 'my', 'friend.', '’', 'giving', 'off', 'light', 'can', 'help', 'summon', 'the', 'predator', 'of', 'your', 'predator', 'known', 'as', 'the', 'burglar', 'alarm', 'effect', 'this', 'is', 'especially', 'useful', 'for', 'tiny', 'life', 'forms', 'such', 'as', 'dinoflagellates', 'that', 'can', 'not', 'swim', 'fast', 'for', 'such', 'small', 'beings', 'water', 'is', 'too', 'viscous', 'to', 'allow', 'a', 'quick', 'getaway', 'it', 'would', 'be', 'like', 'trying', 'to', 'swim', 'through', 'syrup', 'instead', 'when', 'threatened', 'by', 'a', 'shrimp', 'for', 'example', 'these', 'organisms', 'light', 'up', 'the', 'flashes', 'attract', 'larger', 'fish', 'that', 'are', 'better', 'able', 'to', 'spot', 'and', 'eat', 'the', 'shrimp', 'the', 'chief', 'defense', 'for', 'these', 'tiny', 'organisms', 'is', 'therefore', 'not', 'fight', 'or', 'flight', 'but', 'light']\n",
            "Word size before stopwords:  582\n"
          ]
        }
      ]
    },
    {
      "cell_type": "markdown",
      "source": [
        "Frequency 인출"
      ],
      "metadata": {
        "id": "uNl9MFI1Cf80"
      }
    },
    {
      "cell_type": "code",
      "source": [
        "fd = nltk.FreqDist(words2)\n",
        "fd\n",
        "print('Word type: %d'%len(fd),'개')\n",
        "\n",
        "fwords = nltk.FreqDist(words2).most_common()\n",
        "print(fwords[:5])"
      ],
      "metadata": {
        "colab": {
          "base_uri": "https://localhost:8080/"
        },
        "id": "7nwqHZ_TCh-u",
        "outputId": "555ef6d9-73a8-4c1d-a80e-abf7bcdc58e2"
      },
      "execution_count": 61,
      "outputs": [
        {
          "output_type": "stream",
          "name": "stdout",
          "text": [
            "Word type: 214 개\n",
            "[('light', 21), ('ocean', 6), ('shrimp', 5), ('life', 4), ('organisms', 4)]\n"
          ]
        }
      ]
    }
  ]
}