{
  "nbformat": 4,
  "nbformat_minor": 0,
  "metadata": {
    "colab": {
      "provenance": [],
      "include_colab_link": true
    },
    "kernelspec": {
      "name": "python3",
      "display_name": "Python 3"
    },
    "language_info": {
      "name": "python"
    }
  },
  "cells": [
    {
      "cell_type": "markdown",
      "metadata": {
        "id": "view-in-github",
        "colab_type": "text"
      },
      "source": [
        "<a href=\"https://colab.research.google.com/github/GNUJMT/DL23/blob/main/DL/DLW02d.ipynb\" target=\"_parent\"><img src=\"https://colab.research.google.com/assets/colab-badge.svg\" alt=\"Open In Colab\"/></a>"
      ]
    },
    {
      "cell_type": "markdown",
      "source": [
        "---\n",
        "# 📗 Topic [2]: Coding basic #2\n",
        "---\n",
        "Keywords:\n",
        "\n",
        "+ variables\n",
        "+ **operators**\n",
        "+ **data types: list and dictionary**"
      ],
      "metadata": {
        "id": "k4A5_MYHpcNQ"
      }
    },
    {
      "cell_type": "markdown",
      "source": [
        "+ 하이픈 3개 : 줄 생성\n",
        "+ 더하기 기호 : 점 \n",
        "+ **양 옆 별 두개** : 진하게 "
      ],
      "metadata": {
        "id": "VyeOektCHcgp"
      }
    },
    {
      "cell_type": "markdown",
      "source": [
        "Your github IDs [here](https://docs.google.com/spreadsheets/d/17SX51lCqOdtvC7cAGoX5tP9fKwVdGY5sRzMg2pXh9uk/edit#gid=0) - revised 0327"
      ],
      "metadata": {
        "id": "mUVgzk50XMkt"
      }
    },
    {
      "cell_type": "markdown",
      "source": [
        "## [1] Variables"
      ],
      "metadata": {
        "id": "93gQaEo1RX63"
      }
    },
    {
      "cell_type": "markdown",
      "source": [
        "+ **A variable** is a named storage location that holds a value.\n",
        "+ Variables can be used **to store values** such as numbers, strings, lists, or other data types. \n",
        "+ The value of a variable can change throughout the execution of a program. \n",
        "+ To declare a variable in Python, you need to assign a value to it using the **equal (=) sign.**"
      ],
      "metadata": {
        "id": "jJT4hD1teuJr"
      }
    },
    {
      "cell_type": "code",
      "source": [
        "x = 10\n",
        "y = \"Hello, class!\"\n",
        "z = [1, 2, 3]"
      ],
      "metadata": {
        "id": "Xes87bY2X45M"
      },
      "execution_count": null,
      "outputs": []
    },
    {
      "cell_type": "markdown",
      "source": [
        "↗️ In the above example, 'x' is assigned the value of 10, 'y' is assigned the value of \"Hello, World!\", and 'z' is assigned the value of [1, 2, 3]."
      ],
      "metadata": {
        "id": "ulw6QsP5ZiKp"
      }
    },
    {
      "cell_type": "code",
      "source": [
        "# We can assign a link or a function\n",
        "import pandas as pd\n",
        "url = \"https://github.com/MK316/Spring2023/raw/main/data/att_sample.csv\"\n",
        "data = pd.read_csv(url)\n",
        "data"
      ],
      "metadata": {
        "id": "_7bvpJt2aQmg"
      },
      "execution_count": null,
      "outputs": []
    },
    {
      "cell_type": "markdown",
      "source": [
        "+ 큰따옴표 : 텍스트로 인식하겠다 \n",
        "+ 등호로 변수를 설정해놓으면 이후 그 변수를 입력했을 때 불러올 수 있음"
      ],
      "metadata": {
        "id": "n2hw92fxIKVy"
      }
    },
    {
      "cell_type": "markdown",
      "source": [
        "## Commenting '#'\n",
        "\n",
        "- In Python, the # symbol is used to indicate comment lines. A comment is a line of text in a code that is ignored by the Python interpreter and is used to provide explanations or notes for the reader of the code.\n",
        "\n",
        "## Uncommenting shortcut: \n",
        "* \"Ctrl + /\" (Place the cursor on the code line and press the Control + / key.)"
      ],
      "metadata": {
        "id": "xZv9R8I8ZWvt"
      }
    },
    {
      "cell_type": "code",
      "source": [
        "# This is a comment in Python\n",
        "x = 10 # this is also a comment"
      ],
      "metadata": {
        "id": "7UJmbmmTaFx9"
      },
      "execution_count": 1,
      "outputs": []
    },
    {
      "cell_type": "markdown",
      "source": [
        "+ 샵 띄우기도로 코드셀에 텍스트 입력 가능 (단축키 ctrl 슬래시)\n",
        "+ 입력시 대소문자 구분 필요\n"
      ],
      "metadata": {
        "id": "6vyLZ3yzIvOK"
      }
    },
    {
      "cell_type": "code",
      "source": [
        "x1 = x * 10\n",
        "x2 = x + 5\n",
        "\n",
        "print(x1) # Print the value of x1\n",
        "print(x1, x2) # Print the values of x1 and x2"
      ],
      "metadata": {
        "id": "Ivc72tB0X_TS",
        "outputId": "09cfc8e9-aecf-46e1-9974-d404be5d6ba5",
        "colab": {
          "base_uri": "https://localhost:8080/"
        }
      },
      "execution_count": 6,
      "outputs": [
        {
          "output_type": "stream",
          "name": "stdout",
          "text": [
            "100 15\n"
          ]
        }
      ]
    },
    {
      "cell_type": "markdown",
      "source": [
        "+ 명령어는 항상 마지막 값만 프린트 하는데 print 입력하면 다 프린트 함\n",
        "+ "
      ],
      "metadata": {
        "id": "iUoWMjDbJVOS"
      }
    },
    {
      "cell_type": "code",
      "source": [
        "y1 = y + \"Welcome to the class.\"\n",
        "z1 = z + [3,2,1]\n",
        " \n",
        "print(y1, z1)"
      ],
      "metadata": {
        "id": "cxePqv-52RU0",
        "outputId": "4aa49dcd-d6b2-4c44-c26b-402596e4b600",
        "colab": {
          "base_uri": "https://localhost:8080/",
          "height": 229
        }
      },
      "execution_count": 9,
      "outputs": [
        {
          "output_type": "error",
          "ename": "NameError",
          "evalue": "ignored",
          "traceback": [
            "\u001b[0;31m---------------------------------------------------------------------------\u001b[0m",
            "\u001b[0;31mNameError\u001b[0m                                 Traceback (most recent call last)",
            "\u001b[0;32m<ipython-input-9-71a03caef7ca>\u001b[0m in \u001b[0;36m<module>\u001b[0;34m\u001b[0m\n\u001b[0;32m----> 1\u001b[0;31m \u001b[0my1\u001b[0m \u001b[0;34m=\u001b[0m \u001b[0my\u001b[0m \u001b[0;34m+\u001b[0m \u001b[0;34m\"Welcome to the class.\"\u001b[0m\u001b[0;34m\u001b[0m\u001b[0;34m\u001b[0m\u001b[0m\n\u001b[0m\u001b[1;32m      2\u001b[0m \u001b[0mz1\u001b[0m \u001b[0;34m=\u001b[0m \u001b[0mz\u001b[0m \u001b[0;34m+\u001b[0m \u001b[0;34m[\u001b[0m\u001b[0;36m3\u001b[0m\u001b[0;34m,\u001b[0m\u001b[0;36m2\u001b[0m\u001b[0;34m,\u001b[0m\u001b[0;36m1\u001b[0m\u001b[0;34m]\u001b[0m\u001b[0;34m\u001b[0m\u001b[0;34m\u001b[0m\u001b[0m\n\u001b[1;32m      3\u001b[0m \u001b[0;34m\u001b[0m\u001b[0m\n\u001b[1;32m      4\u001b[0m \u001b[0mprint\u001b[0m\u001b[0;34m(\u001b[0m\u001b[0my1\u001b[0m\u001b[0;34m,\u001b[0m \u001b[0mz1\u001b[0m\u001b[0;34m)\u001b[0m\u001b[0;34m\u001b[0m\u001b[0;34m\u001b[0m\u001b[0m\n",
            "\u001b[0;31mNameError\u001b[0m: name 'y' is not defined"
          ]
        }
      ]
    },
    {
      "cell_type": "markdown",
      "source": [
        "Input types:\n",
        "\n",
        "* integer: e.g., -3, 1, 0, 234, etc. 정수\n",
        "* float: e.g., -3.0, 1.2, 0, 3.141592653589793238, etc. 소수\n",
        "* string: (characters) \"1\", '0', \"3.29\", \"Mary\", \"euphoria\", 'My name is Jane.' 문자\n",
        "\n",
        "_Note:_ double or single quotation marks denote **string** data. (Open and close should match.) 숫자에 큰따옴표 붙이면 string으로 변환됨"
      ],
      "metadata": {
        "id": "4zDbyBHbeQsq"
      }
    },
    {
      "cell_type": "code",
      "source": [
        "# DIY\n",
        "x = 1\n",
        "y = 3\n",
        "z = x + y\n",
        "print(z)\n",
        "\n",
        "x1 = \"1\"\n",
        "y1 = \"3\"\n",
        "z1 = x1 + y1\n",
        "print(z1)"
      ],
      "metadata": {
        "colab": {
          "base_uri": "https://localhost:8080/"
        },
        "id": "yzZuC29QfP3T",
        "outputId": "2999d96e-b363-462a-c5fc-3eb5657119ff"
      },
      "execution_count": 10,
      "outputs": [
        {
          "output_type": "stream",
          "name": "stdout",
          "text": [
            "4\n",
            "13\n"
          ]
        }
      ]
    },
    {
      "cell_type": "markdown",
      "source": [
        "+ 첫번째는 숫자로 인식해서 더해서 결과값이 나옴\n",
        "+ 두번째는 텍스트로 인식해서 13이 나옴"
      ],
      "metadata": {
        "id": "_pb-nmygK7pz"
      }
    },
    {
      "cell_type": "code",
      "source": [
        "type(z)"
      ],
      "metadata": {
        "colab": {
          "base_uri": "https://localhost:8080/"
        },
        "id": "qwDb8cf5fkKi",
        "outputId": "ba7f67a5-0138-451c-8695-5900df24a754"
      },
      "execution_count": 11,
      "outputs": [
        {
          "output_type": "execute_result",
          "data": {
            "text/plain": [
              "int"
            ]
          },
          "metadata": {},
          "execution_count": 11
        }
      ]
    },
    {
      "cell_type": "markdown",
      "source": [
        "+ 변수의 타입을 알려주는 명령어"
      ],
      "metadata": {
        "id": "jQdhWmrnLIjx"
      }
    },
    {
      "cell_type": "code",
      "source": [
        "type(z1)"
      ],
      "metadata": {
        "colab": {
          "base_uri": "https://localhost:8080/"
        },
        "id": "L7sxvSaOfsOt",
        "outputId": "ae596cfd-e0b6-43b5-c58d-236b9b3a18ec"
      },
      "execution_count": 12,
      "outputs": [
        {
          "output_type": "execute_result",
          "data": {
            "text/plain": [
              "str"
            ]
          },
          "metadata": {},
          "execution_count": 12
        }
      ]
    },
    {
      "cell_type": "code",
      "source": [
        "print(type(z), type(z1))"
      ],
      "metadata": {
        "colab": {
          "base_uri": "https://localhost:8080/"
        },
        "id": "bbFaL_GWfwMH",
        "outputId": "7f4e3965-e83a-4b24-9780-34d04e1a5305"
      },
      "execution_count": null,
      "outputs": [
        {
          "output_type": "stream",
          "name": "stdout",
          "text": [
            "<class 'int'> <class 'str'>\n"
          ]
        }
      ]
    },
    {
      "cell_type": "markdown",
      "source": [
        "## [2] Operators\n",
        "\n",
        "* Symbols that perform operations on values and variables. \n",
        "* They are used to perform arithmetic and logical operations, and they can also be used to manipulate and compare values. "
      ],
      "metadata": {
        "id": "5JgA2T2dRft5"
      }
    },
    {
      "cell_type": "markdown",
      "source": [
        "1. Arithmetic Operators: +, -, *, /, %, ** (for exponentiation)\n",
        "2. semicolon ';' - separate multiple statements (code lines) on a single line."
      ],
      "metadata": {
        "id": "NJBgu_O4bczL"
      }
    },
    {
      "cell_type": "code",
      "source": [
        "x = 2; y = 5\n",
        "\n",
        "a1 = x + y\n",
        "a2 = x - y\n",
        "a3 = x * y\n",
        "a4 = x / y\n",
        "a5 = x ** y"
      ],
      "metadata": {
        "id": "dXT3pIzobUHU"
      },
      "execution_count": 13,
      "outputs": []
    },
    {
      "cell_type": "code",
      "source": [
        "print(a1, a2, a3, a4, a5)"
      ],
      "metadata": {
        "colab": {
          "base_uri": "https://localhost:8080/"
        },
        "id": "_m3JBsOKd6Uv",
        "outputId": "c272790c-a364-4d0b-d780-73f2d98af963"
      },
      "execution_count": 14,
      "outputs": [
        {
          "output_type": "stream",
          "name": "stdout",
          "text": [
            "7 -3 10 0.4 32\n"
          ]
        }
      ]
    },
    {
      "cell_type": "code",
      "source": [
        "print(\"The value of a1:\", a1)"
      ],
      "metadata": {
        "colab": {
          "base_uri": "https://localhost:8080/"
        },
        "id": "5kq7I3nMd0Xi",
        "outputId": "1770c7bc-c3d5-4f61-da0d-0e3664fbf213"
      },
      "execution_count": 15,
      "outputs": [
        {
          "output_type": "stream",
          "name": "stdout",
          "text": [
            "The value of a1: 7\n"
          ]
        }
      ]
    },
    {
      "cell_type": "markdown",
      "source": [
        "+ 큰따옴표(quotation mark)때문에 텍스트 그대로 나오는 결과\n",
        "+ 텍스트는 고정하고 뒤에를 변수로 활용할 수 있음"
      ],
      "metadata": {
        "id": "kCM5pBhLLjhy"
      }
    },
    {
      "cell_type": "markdown",
      "source": [
        "# 🌱 Define a function\n",
        "\n",
        "Demo 🔢 Calculator"
      ],
      "metadata": {
        "id": "Cx1NyWUAybc8"
      }
    },
    {
      "cell_type": "code",
      "source": [
        "# This function adds two numbers 두숫자 더하기 명령어\n",
        "def add(x, y):\n",
        "    return x + y\n",
        "\n",
        "# This function subtracts two numbers 두숫자 빼기 명령어\n",
        "def subtract(x, y):\n",
        "    return x - y\n",
        "\n",
        "# This function multiplies two numbers 두숫자 곱하기 명령어\n",
        "def multiply(x, y):\n",
        "    return x * y\n",
        "\n",
        "# This function divides two numbers\n",
        "def divide(x, y):\n",
        "    return x / y\n"
      ],
      "metadata": {
        "id": "Dod3_zgYdsWe"
      },
      "execution_count": 16,
      "outputs": []
    },
    {
      "cell_type": "markdown",
      "source": [
        "+ def는 내가 명령어를 정의하겠다는 명령어 \n",
        "+ 반드시 땡땡 을 입력 해야함\n",
        "+ ctrl + enter : 명령어 실행"
      ],
      "metadata": {
        "id": "skfsDLBuMeVz"
      }
    },
    {
      "cell_type": "code",
      "source": [
        "# DIY: define a function names switch(x, y), where the input x, y changes its position in the output.\n",
        "print(add(25, 24))\n",
        "print(add(28390000,90))\n",
        "divide(5500,2)"
      ],
      "metadata": {
        "id": "W9CuAaqXgwb5",
        "outputId": "bc11c0a7-bf1a-4856-aa18-2fa897c462ff",
        "colab": {
          "base_uri": "https://localhost:8080/"
        }
      },
      "execution_count": 21,
      "outputs": [
        {
          "output_type": "stream",
          "name": "stdout",
          "text": [
            "49\n",
            "28390090\n"
          ]
        },
        {
          "output_type": "execute_result",
          "data": {
            "text/plain": [
              "2750.0"
            ]
          },
          "metadata": {},
          "execution_count": 21
        }
      ]
    },
    {
      "cell_type": "code",
      "source": [
        "# Test\n",
        "\n",
        "add(2,3)\n",
        "# subtract(3,2)\n",
        "# multiply(2,3)\n",
        "# divide(3,2)"
      ],
      "metadata": {
        "id": "IoHh-U2GBsqH",
        "outputId": "703a9ccf-a6d4-41d9-b466-4e444cad0485",
        "colab": {
          "base_uri": "https://localhost:8080/"
        }
      },
      "execution_count": 22,
      "outputs": [
        {
          "output_type": "execute_result",
          "data": {
            "text/plain": [
              "5"
            ]
          },
          "metadata": {},
          "execution_count": 22
        }
      ]
    },
    {
      "cell_type": "markdown",
      "source": [
        "## Using dropbox format"
      ],
      "metadata": {
        "id": "eOluPoNqCCE1"
      }
    },
    {
      "cell_type": "markdown",
      "source": [
        "+ gtts 를 먼저 인스톨 하고 import 하고 나서 실행 가능"
      ],
      "metadata": {
        "id": "8rjrMZLdPGUk"
      }
    },
    {
      "cell_type": "code",
      "source": [
        "!pip install gTTS"
      ],
      "metadata": {
        "id": "zZ1J37-tOWUs",
        "outputId": "d9cb710e-4f77-4a41-b516-b82a40a98908",
        "colab": {
          "base_uri": "https://localhost:8080/"
        }
      },
      "execution_count": 25,
      "outputs": [
        {
          "output_type": "stream",
          "name": "stdout",
          "text": [
            "Looking in indexes: https://pypi.org/simple, https://us-python.pkg.dev/colab-wheels/public/simple/\n",
            "Requirement already satisfied: gTTS in /usr/local/lib/python3.9/dist-packages (2.3.1)\n",
            "Requirement already satisfied: click<8.2,>=7.1 in /usr/local/lib/python3.9/dist-packages (from gTTS) (8.1.3)\n",
            "Requirement already satisfied: requests<3,>=2.27 in /usr/local/lib/python3.9/dist-packages (from gTTS) (2.27.1)\n",
            "Requirement already satisfied: urllib3<1.27,>=1.21.1 in /usr/local/lib/python3.9/dist-packages (from requests<3,>=2.27->gTTS) (1.26.15)\n",
            "Requirement already satisfied: certifi>=2017.4.17 in /usr/local/lib/python3.9/dist-packages (from requests<3,>=2.27->gTTS) (2022.12.7)\n",
            "Requirement already satisfied: idna<4,>=2.5 in /usr/local/lib/python3.9/dist-packages (from requests<3,>=2.27->gTTS) (3.4)\n",
            "Requirement already satisfied: charset-normalizer~=2.0.0 in /usr/local/lib/python3.9/dist-packages (from requests<3,>=2.27->gTTS) (2.0.12)\n"
          ]
        }
      ]
    },
    {
      "cell_type": "code",
      "source": [
        "from gtts import gTTS\n",
        "from IPython.display import Audio\n"
      ],
      "metadata": {
        "id": "DPhblZTHOb5s"
      },
      "execution_count": 26,
      "outputs": []
    },
    {
      "cell_type": "code",
      "source": [
        "def tts(text):\n",
        "  gtts_object = gTTS(text,lang = \"en\", slow = True) \n",
        "  gtts_object.save(\"myaudio.mp3\")\n",
        "  return Audio(\"myaudio.mp3\")"
      ],
      "metadata": {
        "id": "AHjrgUDZOi38"
      },
      "execution_count": 27,
      "outputs": []
    },
    {
      "cell_type": "code",
      "source": [
        "\n",
        "func = \"multiply\" #@param = [\"add\",\"subtract\",\"multiply\",\"divide\"]\n",
        "digits = input(\"Type two numbers: (e.g., 3,4)\")\n",
        "digitsplit = digits.split(',')\n",
        "d1 = int(digitsplit[0])\n",
        "d2 = int(digitsplit[1])\n",
        "\n",
        "if func == \"add\":\n",
        "  result = add(d1,d2)\n",
        "  text = \"The addition of %d and %d equals %d.\"%(d1,d2,result)\n",
        "elif func == \"subtract\":\n",
        "  result = subtract(d1,d2)\n",
        "  text = \"If you subtract %d from %d, you get %d.\"%(d2,d1,result)\n",
        "elif func == \"divide\":\n",
        "  result = divide(d1,d2)\n",
        "  text = \"When you divide %d by %d, you get %d.\"%(d1,d2,result)\n",
        "elif func == \"multiply\":\n",
        "  result = multiply(d1,d2)\n",
        "  text = \"%d multiplied by %d is %d.\"%(d1,d2,result)\n",
        "\n",
        "print(text)\n",
        "tts(text)\n",
        "Audio(\"myaudio.mp3\")"
      ],
      "metadata": {
        "cellView": "form",
        "id": "FT47bY6qBo3k",
        "outputId": "f5bbbea2-1852-4b65-ef84-9e526601e89a",
        "colab": {
          "base_uri": "https://localhost:8080/",
          "height": 111
        }
      },
      "execution_count": 28,
      "outputs": [
        {
          "output_type": "stream",
          "name": "stdout",
          "text": [
            "Type two numbers: (e.g., 3,4)24,7\n",
            "When you divide 24 by 7, you get 3.\n"
          ]
        },
        {
          "output_type": "execute_result",
          "data": {
            "text/plain": [
              "<IPython.lib.display.Audio object>"
            ],
            "text/html": [
              "\n",
              "                <audio  controls=\"controls\" >\n",
              "                    <source src=\"data:audio/mpeg;base64,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\" type=\"audio/mpeg\" />\n",
              "                    Your browser does not support the audio element.\n",
              "                </audio>\n",
              "              "
            ]
          },
          "metadata": {},
          "execution_count": 28
        }
      ]
    },
    {
      "cell_type": "markdown",
      "source": [
        "More operators: <br>\n",
        "* Comparison Operators: ==, !=, <, >, <=, >= <br>\n",
        "* Assignment Operators: =, +=, -=, *=, /=, %= <br>\n",
        "* Logical Operators: and, or, not <br>\n",
        "* Identity Operators: is, is not <br>\n",
        "* Membership Operators: in, not in "
      ],
      "metadata": {
        "id": "sfubu24UbqjH"
      }
    },
    {
      "cell_type": "markdown",
      "source": [
        "# 📗Topic [3] Data types: number, string, list and dictionary\n"
      ],
      "metadata": {
        "id": "3eSrUoglRh6-"
      }
    },
    {
      "cell_type": "markdown",
      "source": [
        "\n",
        "|Data type| |\n",
        "|:--:|:--:|\n",
        "|number|int, float|\n",
        "|string|charcter|\n",
        "|list|[1, 2,4], ['Mary','Tom','Jane'|\n",
        "|dictionary|(key: value), [('English': 80), ('Korean':90)]|\n",
        "|tuple|('zero', 0)|\n"
      ],
      "metadata": {
        "id": "ZVFb5JmJrPXu"
      }
    },
    {
      "cell_type": "code",
      "source": [
        "a1 = 3   # a1 is integer\n",
        "a2 = 3.0 # a2 is float\n",
        "a3 = \"3\" # a3 is string\n",
        "\n",
        "type(a1); type(a2); type(a3)\n",
        "# print(type(a1), type(a2), type(a3))"
      ],
      "metadata": {
        "colab": {
          "base_uri": "https://localhost:8080/"
        },
        "id": "g-kvldqENA1e",
        "outputId": "0c5039b7-98cf-4a8f-d194-b2a9d9a25363"
      },
      "execution_count": 29,
      "outputs": [
        {
          "output_type": "execute_result",
          "data": {
            "text/plain": [
              "str"
            ]
          },
          "metadata": {},
          "execution_count": 29
        }
      ]
    },
    {
      "cell_type": "markdown",
      "source": [
        "list and index (0, 1, 2,...)"
      ],
      "metadata": {
        "id": "HC_wMsPnNbzs"
      }
    },
    {
      "cell_type": "code",
      "source": [
        "a = [1, \"Mary\", 4, \"John\"]  # This is a list. 리스트 데이터는 순서가 잇음\n",
        "print(type(a))\n",
        "\n",
        "# a+a"
      ],
      "metadata": {
        "colab": {
          "base_uri": "https://localhost:8080/"
        },
        "id": "LyTw7phONZHE",
        "outputId": "c4570cff-bd4b-4230-9bc8-3a0b199a9f9f"
      },
      "execution_count": 30,
      "outputs": [
        {
          "output_type": "stream",
          "name": "stdout",
          "text": [
            "<class 'list'>\n"
          ]
        }
      ]
    },
    {
      "cell_type": "markdown",
      "source": [
        "* index: Python index starts from '0' 파이썬은 0부터 시작작\n",
        "\n",
        "e.g., a = [1, 2, 3, 4]"
      ],
      "metadata": {
        "id": "-fL-pJvj7NW8"
      }
    },
    {
      "cell_type": "code",
      "source": [
        "a[0]\n",
        "type(a[0])\n",
        "type(a[1])\n",
        "a[0] + a[2]\n",
        "a[0] + a[1] #숫자와 스트링을 더할 수 없음"
      ],
      "metadata": {
        "id": "9Z5zLDGc7X13",
        "outputId": "3c003f5c-9589-48ef-857e-f12ab7a302b3",
        "colab": {
          "base_uri": "https://localhost:8080/",
          "height": 229
        }
      },
      "execution_count": 37,
      "outputs": [
        {
          "output_type": "error",
          "ename": "TypeError",
          "evalue": "ignored",
          "traceback": [
            "\u001b[0;31m---------------------------------------------------------------------------\u001b[0m",
            "\u001b[0;31mTypeError\u001b[0m                                 Traceback (most recent call last)",
            "\u001b[0;32m<ipython-input-37-5fdcd5e9179e>\u001b[0m in \u001b[0;36m<module>\u001b[0;34m\u001b[0m\n\u001b[1;32m      3\u001b[0m \u001b[0mtype\u001b[0m\u001b[0;34m(\u001b[0m\u001b[0ma\u001b[0m\u001b[0;34m[\u001b[0m\u001b[0;36m1\u001b[0m\u001b[0;34m]\u001b[0m\u001b[0;34m)\u001b[0m\u001b[0;34m\u001b[0m\u001b[0;34m\u001b[0m\u001b[0m\n\u001b[1;32m      4\u001b[0m \u001b[0ma\u001b[0m\u001b[0;34m[\u001b[0m\u001b[0;36m0\u001b[0m\u001b[0;34m]\u001b[0m \u001b[0;34m+\u001b[0m \u001b[0ma\u001b[0m\u001b[0;34m[\u001b[0m\u001b[0;36m2\u001b[0m\u001b[0;34m]\u001b[0m\u001b[0;34m\u001b[0m\u001b[0;34m\u001b[0m\u001b[0m\n\u001b[0;32m----> 5\u001b[0;31m \u001b[0ma\u001b[0m\u001b[0;34m[\u001b[0m\u001b[0;36m0\u001b[0m\u001b[0;34m]\u001b[0m \u001b[0;34m+\u001b[0m \u001b[0ma\u001b[0m\u001b[0;34m[\u001b[0m\u001b[0;36m1\u001b[0m\u001b[0;34m]\u001b[0m \u001b[0;31m#숫자와 스트링을 더할 수 없음\u001b[0m\u001b[0;34m\u001b[0m\u001b[0;34m\u001b[0m\u001b[0m\n\u001b[0m\u001b[1;32m      6\u001b[0m \u001b[0mstr\u001b[0m\u001b[0;34m(\u001b[0m\u001b[0ma\u001b[0m\u001b[0;34m[\u001b[0m\u001b[0;36m0\u001b[0m\u001b[0;34m]\u001b[0m\u001b[0;34m)\u001b[0m\u001b[0;34m+\u001b[0m\u001b[0ma\u001b[0m\u001b[0;34m[\u001b[0m\u001b[0;36m1\u001b[0m\u001b[0;34m]\u001b[0m\u001b[0;34m\u001b[0m\u001b[0;34m\u001b[0m\u001b[0m\n",
            "\u001b[0;31mTypeError\u001b[0m: unsupported operand type(s) for +: 'int' and 'str'"
          ]
        }
      ]
    },
    {
      "cell_type": "markdown",
      "source": [
        "[Github accounts](https://raw.githubusercontent.com/MK316/Spring2023/main/DL/files/DL_github.csv)"
      ],
      "metadata": {
        "id": "S-KG49Zaim0S"
      }
    },
    {
      "cell_type": "markdown",
      "source": [
        "\n",
        "\n",
        "---\n",
        "# The End\n"
      ],
      "metadata": {
        "id": "3cZjH9xIiN4_"
      }
    }
  ]
}