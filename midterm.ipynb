{
  "nbformat": 4,
  "nbformat_minor": 0,
  "metadata": {
    "colab": {
      "provenance": [],
      "authorship_tag": "ABX9TyNF/HD9652i/9op5qwlzIt1",
      "include_colab_link": true
    },
    "kernelspec": {
      "name": "python3",
      "display_name": "Python 3"
    },
    "language_info": {
      "name": "python"
    }
  },
  "cells": [
    {
      "cell_type": "markdown",
      "metadata": {
        "id": "view-in-github",
        "colab_type": "text"
      },
      "source": [
        "<a href=\"https://colab.research.google.com/github/GNUJMT/DL23/blob/main/midterm.ipynb\" target=\"_parent\"><img src=\"https://colab.research.google.com/assets/colab-badge.svg\" alt=\"Open In Colab\"/></a>"
      ]
    },
    {
      "cell_type": "markdown",
      "source": [
        "#의문문 만들기"
      ],
      "metadata": {
        "id": "l9qsImVxFSFo"
      }
    },
    {
      "cell_type": "code",
      "execution_count": null,
      "metadata": {
        "colab": {
          "base_uri": "https://localhost:8080/"
        },
        "id": "gtqOb4m3WMVx",
        "outputId": "7adba5d2-aed6-4402-cf07-38271b64ba92"
      },
      "outputs": [
        {
          "output_type": "stream",
          "name": "stdout",
          "text": [
            "Is Jacob happy?\n"
          ]
        }
      ],
      "source": [
        "w1= \"Jacob is happy.\"\n",
        "s=w1.split()\n",
        "sub =s[0]\n",
        "v = s[1]\n",
        "c = s[2]\n",
        "c1 = c[0:-1]\n",
        "\n",
        "S = sub.upper()[0]+sub[1:]\n",
        "V= v.upper()[0]+v[1:]\n",
        "\n",
        "Q= V+\" \"+S+\" \"+c1+\"?\"\n",
        "\n",
        "print(Q)"
      ]
    },
    {
      "cell_type": "markdown",
      "source": [
        "**gtts 패키지**"
      ],
      "metadata": {
        "id": "DSYwo6ppFiyD"
      }
    },
    {
      "cell_type": "code",
      "source": [
        "!pip install gtts #!pip: 설치하는 명령어\n",
        "!pip install IPython #Ipython: 영상,음원 플레이하도록 하는 장치\n",
        "from gtts import gTTS\n",
        "from IPython.display import Audio, display"
      ],
      "metadata": {
        "id": "4l9Pef2UFhXF",
        "outputId": "6746cf1a-84d3-44db-8930-a34ad6962b4f",
        "colab": {
          "base_uri": "https://localhost:8080/"
        }
      },
      "execution_count": 2,
      "outputs": [
        {
          "output_type": "stream",
          "name": "stdout",
          "text": [
            "Looking in indexes: https://pypi.org/simple, https://us-python.pkg.dev/colab-wheels/public/simple/\n",
            "Collecting gtts\n",
            "  Downloading gTTS-2.3.2-py3-none-any.whl (28 kB)\n",
            "Requirement already satisfied: click<8.2,>=7.1 in /usr/local/lib/python3.10/dist-packages (from gtts) (8.1.3)\n",
            "Requirement already satisfied: requests<3,>=2.27 in /usr/local/lib/python3.10/dist-packages (from gtts) (2.27.1)\n",
            "Requirement already satisfied: urllib3<1.27,>=1.21.1 in /usr/local/lib/python3.10/dist-packages (from requests<3,>=2.27->gtts) (1.26.15)\n",
            "Requirement already satisfied: certifi>=2017.4.17 in /usr/local/lib/python3.10/dist-packages (from requests<3,>=2.27->gtts) (2022.12.7)\n",
            "Requirement already satisfied: idna<4,>=2.5 in /usr/local/lib/python3.10/dist-packages (from requests<3,>=2.27->gtts) (3.4)\n",
            "Requirement already satisfied: charset-normalizer~=2.0.0 in /usr/local/lib/python3.10/dist-packages (from requests<3,>=2.27->gtts) (2.0.12)\n",
            "Installing collected packages: gtts\n",
            "Successfully installed gtts-2.3.2\n",
            "Looking in indexes: https://pypi.org/simple, https://us-python.pkg.dev/colab-wheels/public/simple/\n",
            "Requirement already satisfied: IPython in /usr/local/lib/python3.10/dist-packages (7.34.0)\n",
            "Collecting jedi>=0.16\n",
            "  Downloading jedi-0.18.2-py2.py3-none-any.whl (1.6 MB)\n",
            "\u001b[2K     \u001b[90m━━━━━━━━━━━━━━━━━━━━━━━━━━━━━━━━━━━━━━━━\u001b[0m \u001b[32m1.6/1.6 MB\u001b[0m \u001b[31m17.6 MB/s\u001b[0m eta \u001b[36m0:00:00\u001b[0m\n",
            "\u001b[?25hRequirement already satisfied: pygments in /usr/local/lib/python3.10/dist-packages (from IPython) (2.14.0)\n",
            "Requirement already satisfied: matplotlib-inline in /usr/local/lib/python3.10/dist-packages (from IPython) (0.1.6)\n",
            "Requirement already satisfied: traitlets>=4.2 in /usr/local/lib/python3.10/dist-packages (from IPython) (5.7.1)\n",
            "Requirement already satisfied: setuptools>=18.5 in /usr/local/lib/python3.10/dist-packages (from IPython) (67.7.2)\n",
            "Requirement already satisfied: prompt-toolkit!=3.0.0,!=3.0.1,<3.1.0,>=2.0.0 in /usr/local/lib/python3.10/dist-packages (from IPython) (3.0.38)\n",
            "Requirement already satisfied: pexpect>4.3 in /usr/local/lib/python3.10/dist-packages (from IPython) (4.8.0)\n",
            "Requirement already satisfied: decorator in /usr/local/lib/python3.10/dist-packages (from IPython) (4.4.2)\n",
            "Requirement already satisfied: backcall in /usr/local/lib/python3.10/dist-packages (from IPython) (0.2.0)\n",
            "Requirement already satisfied: pickleshare in /usr/local/lib/python3.10/dist-packages (from IPython) (0.7.5)\n",
            "Requirement already satisfied: parso<0.9.0,>=0.8.0 in /usr/local/lib/python3.10/dist-packages (from jedi>=0.16->IPython) (0.8.3)\n",
            "Requirement already satisfied: ptyprocess>=0.5 in /usr/local/lib/python3.10/dist-packages (from pexpect>4.3->IPython) (0.7.0)\n",
            "Requirement already satisfied: wcwidth in /usr/local/lib/python3.10/dist-packages (from prompt-toolkit!=3.0.0,!=3.0.1,<3.1.0,>=2.0.0->IPython) (0.2.6)\n",
            "Installing collected packages: jedi\n",
            "Successfully installed jedi-0.18.2\n"
          ]
        }
      ]
    },
    {
      "cell_type": "markdown",
      "source": [
        "#etts"
      ],
      "metadata": {
        "id": "PDKG4GONasq9"
      }
    },
    {
      "cell_type": "code",
      "source": [
        "#etts\n",
        "def etts(text):\n",
        "  text_to_say = text\n",
        "\n",
        "  gtts_object = gTTS(text = text_to_say,\n",
        "                     lang = \"en\",\n",
        "                    slow = False)\n",
        "  \n",
        "  gtts_object.save(\"E-audio.mp3\")\n",
        "  return Audio(\"E-audio.mp3\")"
      ],
      "metadata": {
        "id": "0C-CcwiCZFf4"
      },
      "execution_count": 3,
      "outputs": []
    },
    {
      "cell_type": "code",
      "source": [
        "etts(input())"
      ],
      "metadata": {
        "id": "4OLBuwuTZWxe",
        "outputId": "3cc5bdba-ac0f-49ef-96d2-0528a4793995",
        "colab": {
          "base_uri": "https://localhost:8080/",
          "height": 70
        }
      },
      "execution_count": 14,
      "outputs": [
        {
          "name": "stdout",
          "output_type": "stream",
          "text": [
            "Hi\n"
          ]
        },
        {
          "output_type": "execute_result",
          "data": {
            "text/plain": [
              "<IPython.lib.display.Audio object>"
            ],
            "text/html": [
              "\n",
              "                <audio  controls=\"controls\" >\n",
              "                    <source src=\"data:audio/mpeg;base64,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\" type=\"audio/mpeg\" />\n",
              "                    Your browser does not support the audio element.\n",
              "                </audio>\n",
              "              "
            ]
          },
          "metadata": {},
          "execution_count": 14
        }
      ]
    }
  ]
}