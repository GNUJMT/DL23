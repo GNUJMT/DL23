{
  "nbformat": 4,
  "nbformat_minor": 0,
  "metadata": {
    "colab": {
      "provenance": [],
      "authorship_tag": "ABX9TyPQRfgQdojpWB5b9NTK7WCx",
      "include_colab_link": true
    },
    "kernelspec": {
      "name": "python3",
      "display_name": "Python 3"
    },
    "language_info": {
      "name": "python"
    }
  },
  "cells": [
    {
      "cell_type": "markdown",
      "metadata": {
        "id": "view-in-github",
        "colab_type": "text"
      },
      "source": [
        "<a href=\"https://colab.research.google.com/github/GNUJMT/DL23/blob/main/midterm.ipynb\" target=\"_parent\"><img src=\"https://colab.research.google.com/assets/colab-badge.svg\" alt=\"Open In Colab\"/></a>"
      ]
    },
    {
      "cell_type": "code",
      "execution_count": 9,
      "metadata": {
        "colab": {
          "base_uri": "https://localhost:8080/"
        },
        "id": "gtqOb4m3WMVx",
        "outputId": "7adba5d2-aed6-4402-cf07-38271b64ba92"
      },
      "outputs": [
        {
          "output_type": "stream",
          "name": "stdout",
          "text": [
            "Is Jacob happy?\n"
          ]
        }
      ],
      "source": [
        "w1= \"Jacob is happy.\"\n",
        "s=w1.split()\n",
        "sub =s[0]\n",
        "v = s[1]\n",
        "c = s[2]\n",
        "c1 = c[0:-1]\n",
        "\n",
        "S = sub.upper()[0]+sub[1:]\n",
        "V= v.upper()[0]+v[1:]\n",
        "\n",
        "Q= V+\" \"+S+\" \"+c1+\"?\"\n",
        "\n",
        "print(Q)"
      ]
    }
  ]
}